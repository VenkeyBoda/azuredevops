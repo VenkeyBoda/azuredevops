{
 "cells": [
  {
   "cell_type": "markdown",
   "metadata": {},
   "source": [
    "#largest prime factor using for loop and rang"
   ]
  },
  {
   "cell_type": "code",
   "execution_count": 28,
   "metadata": {},
   "outputs": [
    {
     "name": "stdout",
     "output_type": "stream",
     "text": [
      "29\n"
     ]
    }
   ],
   "source": [
    "number = 13195\n",
    "for factor in range(number-1,1,-1):\n",
    "    if number % factor == 0:\n",
    "      is_prime = True\n",
    "    for index in range(2, factor):\n",
    "        if factor % index == 0:\n",
    "          is_prime = False\n",
    "          break\n",
    "    if is_prime:\n",
    "           print(factor)\n",
    "           break"
   ]
  }
 ],
 "metadata": {
  "kernelspec": {
   "display_name": "Python 3",
   "language": "python",
   "name": "python3"
  },
  "language_info": {
   "codemirror_mode": {
    "name": "ipython",
    "version": 3
   },
   "file_extension": ".py",
   "mimetype": "text/x-python",
   "name": "python",
   "nbconvert_exporter": "python",
   "pygments_lexer": "ipython3",
   "version": "3.13.1"
  }
 },
 "nbformat": 4,
 "nbformat_minor": 2
}
