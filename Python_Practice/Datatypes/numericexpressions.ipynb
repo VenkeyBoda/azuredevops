{
 "cells": [
  {
   "cell_type": "markdown",
   "metadata": {},
   "source": [
    "Arthimetic Operators"
   ]
  },
  {
   "cell_type": "code",
   "execution_count": 5,
   "metadata": {},
   "outputs": [
    {
     "data": {
      "text/plain": [
       "200.96"
      ]
     },
     "execution_count": 5,
     "metadata": {},
     "output_type": "execute_result"
    }
   ],
   "source": [
    "#area of circle\n",
    "\n",
    "radius = 8\n",
    "result = 3.14 * radius ** 2\n",
    "result"
   ]
  },
  {
   "cell_type": "code",
   "execution_count": 6,
   "metadata": {},
   "outputs": [
    {
     "data": {
      "text/plain": [
       "100"
      ]
     },
     "execution_count": 6,
     "metadata": {},
     "output_type": "execute_result"
    }
   ],
   "source": [
    "# x + y whole square\n",
    "x = 5\n",
    "y = 5\n",
    "result = (x + y) ** 2\n",
    "result"
   ]
  },
  {
   "cell_type": "code",
   "execution_count": 7,
   "metadata": {},
   "outputs": [
    {
     "name": "stdout",
     "output_type": "stream",
     "text": [
      "6\n"
     ]
    }
   ],
   "source": [
    "index = 5\n",
    "# increment index by 1\n",
    "index = index + 1\n",
    "print(index)"
   ]
  },
  {
   "cell_type": "code",
   "execution_count": 8,
   "metadata": {},
   "outputs": [
    {
     "name": "stdout",
     "output_type": "stream",
     "text": [
      "8\n"
     ]
    }
   ],
   "source": [
    "# increment index by 2\n",
    "index += 2\n",
    "print(index)"
   ]
  },
  {
   "cell_type": "code",
   "execution_count": 9,
   "metadata": {},
   "outputs": [
    {
     "name": "stdout",
     "output_type": "stream",
     "text": [
      "40\n"
     ]
    }
   ],
   "source": [
    "# multiply index by 5\n",
    "index *= 5\n",
    "print(index)"
   ]
  },
  {
   "cell_type": "code",
   "execution_count": 10,
   "metadata": {},
   "outputs": [
    {
     "data": {
      "text/plain": [
       "13.88888888888889"
      ]
     },
     "execution_count": 10,
     "metadata": {},
     "output_type": "execute_result"
    }
   ],
   "source": [
    "## Temperature converter from farnheit to celcius\n",
    "\n",
    "farnheit = 57\n",
    "result = ((farnheit - 32) * 5)/9\n",
    "result"
   ]
  },
  {
   "cell_type": "code",
   "execution_count": 11,
   "metadata": {},
   "outputs": [
    {
     "name": "stdout",
     "output_type": "stream",
     "text": [
      "21486063.766229507\n",
      "26912907.58550443\n"
     ]
    }
   ],
   "source": [
    "# You have 2500000 rupees with you\n",
    "# you have an investment where you get yearly returns of 24%\n",
    "# What would be the value after 10 years\n",
    "\n",
    "P = 2500000\n",
    "R = 24/100\n",
    "T = 10\n",
    "N = 1\n",
    "\n",
    "amount = P * (1 + (R / N) ) ** (N * T)\n",
    "print(amount)\n",
    "\n",
    "N = 12\n",
    "amount = P * (1 + (R / N) ) ** (N * T)\n",
    "print(amount)\n",
    "\n"
   ]
  }
 ],
 "metadata": {
  "kernelspec": {
   "display_name": "Python 3",
   "language": "python",
   "name": "python3"
  },
  "language_info": {
   "codemirror_mode": {
    "name": "ipython",
    "version": 3
   },
   "file_extension": ".py",
   "mimetype": "text/x-python",
   "name": "python",
   "nbconvert_exporter": "python",
   "pygments_lexer": "ipython3",
   "version": "3.13.1"
  }
 },
 "nbformat": 4,
 "nbformat_minor": 2
}
