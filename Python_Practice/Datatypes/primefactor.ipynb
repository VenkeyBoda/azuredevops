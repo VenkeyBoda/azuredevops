{
 "cells": [
  {
   "cell_type": "markdown",
   "metadata": {},
   "source": [
    "#largest prime factor"
   ]
  },
  {
   "cell_type": "code",
   "execution_count": 41,
   "metadata": {},
   "outputs": [
    {
     "name": "stdout",
     "output_type": "stream",
     "text": [
      "29\n"
     ]
    }
   ],
   "source": [
    "number = 13195\n",
    "start = number - 1\n",
    "while start > 1:\n",
    "    if number % start == 0:\n",
    "       #print(start)\n",
    "       is_prime = True\n",
    "       index = 2\n",
    "       while index < start:\n",
    "           if start % index == 0:\n",
    "              is_prime = False\n",
    "              break\n",
    "           index += 1\n",
    "       if is_prime:\n",
    "           print(start)\n",
    "           break\n",
    "    start -= 1\n",
    "\n"
   ]
  }
 ],
 "metadata": {
  "kernelspec": {
   "display_name": "Python 3",
   "language": "python",
   "name": "python3"
  },
  "language_info": {
   "codemirror_mode": {
    "name": "ipython",
    "version": 3
   },
   "file_extension": ".py",
   "mimetype": "text/x-python",
   "name": "python",
   "nbconvert_exporter": "python",
   "pygments_lexer": "ipython3",
   "version": "3.13.1"
  }
 },
 "nbformat": 4,
 "nbformat_minor": 2
}
